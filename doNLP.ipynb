{
 "cells": [
  {
   "cell_type": "code",
   "execution_count": 14,
   "metadata": {},
   "outputs": [],
   "source": [
    "import numpy as np\n",
    "import pandas as pd"
   ]
  },
  {
   "cell_type": "code",
   "execution_count": 15,
   "metadata": {},
   "outputs": [],
   "source": [
    "df = pd.read_csv(\"data.csv\",sep=\",\")"
   ]
  },
  {
   "cell_type": "code",
   "execution_count": 16,
   "metadata": {
    "scrolled": true
   },
   "outputs": [],
   "source": [
    "df.drop([\"Unnamed: 0\"],axis=1,inplace=True)"
   ]
  },
  {
   "cell_type": "code",
   "execution_count": 19,
   "metadata": {},
   "outputs": [
    {
     "name": "stderr",
     "output_type": "stream",
     "text": [
      "[nltk_data] Downloading package stopwords to\n",
      "[nltk_data]     /Users/sarperyurtseven/nltk_data...\n",
      "[nltk_data]   Package stopwords is already up-to-date!\n"
     ]
    }
   ],
   "source": [
    "import nltk\n",
    "nltk.download('stopwords')\n",
    "from nltk.corpus import stopwords"
   ]
  },
  {
   "cell_type": "code",
   "execution_count": 20,
   "metadata": {
    "scrolled": true
   },
   "outputs": [],
   "source": [
    "sw = stopwords.words(\"english\")"
   ]
  },
  {
   "cell_type": "code",
   "execution_count": 22,
   "metadata": {},
   "outputs": [],
   "source": [
    "def clean_text (text):\n",
    "    '''\n",
    "    <string> -> <list>\n",
    "    1. Remove punctuation\n",
    "    2. Lower words\n",
    "    3. Remove abbreviations\n",
    "    4. Remove stop words\n",
    "    '''\n",
    "    nopunc = [char.replace(\"[^\\w\\s]\",\"\") for char in text] #no punctuation\n",
    "    nopunc_lower = [char.lower() for char in nopunc] #lower-case all words\n",
    "    nopunc_lower_abbr = [char.replace(\"’\",\"'\") for char in nopunc_lower] #remove ' with '\n",
    "    nopunc_lower_abbr_point = [char.replace(\".\",\"\") for char in nopunc_lower_abbr]\n",
    "\n",
    "    nopunc = ''.join(nopunc_lower_abbr_point)\n",
    "    return [word for word in nopunc.split() if word.lower() not in sw]"
   ]
  },
  {
   "cell_type": "code",
   "execution_count": 23,
   "metadata": {},
   "outputs": [],
   "source": [
    "list = df[\"job_description\"].apply(clean_text)"
   ]
  },
  {
   "cell_type": "code",
   "execution_count": 24,
   "metadata": {},
   "outputs": [
    {
     "data": {
      "text/plain": [
       "0     [job, description, come, intern, one, largest,...\n",
       "1     [great, career, bright, future, aim, best, ins...\n",
       "2     [witnessing, massive, shift, consumer, presenc...\n",
       "3     [microsoft,, interns, work, real-world, projec...\n",
       "4     [procter, &, gamble, looking, develop, next, g...\n",
       "                            ...                        \n",
       "83    [doordash, building, world's, reliable, on-dem...\n",
       "84    [microsoft,, interns, work, real-world, projec...\n",
       "85    [doordash, building, world's, reliable, on-dem...\n",
       "86    [req, id:, 316001, bell,, build, world-class, ...\n",
       "87    [position, overview, sidefx, currently, lookin...\n",
       "Name: job_description, Length: 88, dtype: object"
      ]
     },
     "execution_count": 24,
     "metadata": {},
     "output_type": "execute_result"
    }
   ],
   "source": [
    "list"
   ]
  },
  {
   "cell_type": "code",
   "execution_count": null,
   "metadata": {},
   "outputs": [],
   "source": [
    "df[\"job_description\"] = df[\"job_description\"].str.replace(\"[^\\w\\s]\",\"\")\n",
    "df[\"job_description\"]=df[\"job_description\"].apply(lambda x: \" \".join(x.lower() for x in x.split()))\n",
    "df[\"job_description\"]=df[\"job_description\"].apply(lambda x: \" \".join(x.replace(\"’\",\"'\") for x in x.split()))\n",
    "df[\"job_description\"]=df[\"job_description\"].apply(lambda x: \" \".join(x for x in x.split() if x not in sw))\n",
    "df['job_description']=df['job_description'].apply(str)\n",
    "tokens = []\n",
    "for i in range(len(df[\"job_description\"])):\n",
    "    token = nltk.word_tokenize(df[\"job_description\"][i])\n",
    "    tokens.append(token)"
   ]
  },
  {
   "cell_type": "code",
   "execution_count": 6,
   "metadata": {},
   "outputs": [],
   "source": [
    "job = \"computer science internship\"\n",
    "location = \"ontario\"\n",
    "empty = \"\""
   ]
  },
  {
   "cell_type": "code",
   "execution_count": null,
   "metadata": {},
   "outputs": [],
   "source": [
    "def get_file_name(job,location):\n",
    "    \n",
    "    \n",
    "    "
   ]
  },
  {
   "cell_type": "code",
   "execution_count": 4,
   "metadata": {
    "scrolled": true
   },
   "outputs": [
    {
     "data": {
      "text/plain": [
       "'ComputerScienceInternship'"
      ]
     },
     "execution_count": 4,
     "metadata": {},
     "output_type": "execute_result"
    }
   ],
   "source": [
    "str1 = ''.join(x for x in job.title() if not x.isspace())"
   ]
  },
  {
   "cell_type": "code",
   "execution_count": 7,
   "metadata": {},
   "outputs": [
    {
     "data": {
      "text/plain": [
       "''"
      ]
     },
     "execution_count": 7,
     "metadata": {},
     "output_type": "execute_result"
    }
   ],
   "source": [
    "''.join(x for x in empty.title() if not x.isspace())"
   ]
  },
  {
   "cell_type": "code",
   "execution_count": null,
   "metadata": {},
   "outputs": [],
   "source": []
  }
 ],
 "metadata": {
  "kernelspec": {
   "display_name": "Python 3",
   "language": "python",
   "name": "python3"
  },
  "language_info": {
   "codemirror_mode": {
    "name": "ipython",
    "version": 3
   },
   "file_extension": ".py",
   "mimetype": "text/x-python",
   "name": "python",
   "nbconvert_exporter": "python",
   "pygments_lexer": "ipython3",
   "version": "3.8.5"
  }
 },
 "nbformat": 4,
 "nbformat_minor": 4
}
