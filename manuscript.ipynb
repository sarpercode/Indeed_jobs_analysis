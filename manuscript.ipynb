{
 "cells": [
  {
   "cell_type": "code",
   "execution_count": 147,
   "source": [
    "import pandas as pd\r\n",
    "import numpy as np"
   ],
   "outputs": [],
   "metadata": {}
  },
  {
   "cell_type": "code",
   "execution_count": 148,
   "source": [
    "df = pd.read_csv(\"data.csv\",sep=\",\")"
   ],
   "outputs": [],
   "metadata": {}
  },
  {
   "cell_type": "code",
   "execution_count": 149,
   "source": [
    "df.drop([\"Unnamed: 0\"],axis=1,inplace=True)"
   ],
   "outputs": [],
   "metadata": {}
  },
  {
   "cell_type": "code",
   "execution_count": 150,
   "source": [
    "df"
   ],
   "outputs": [
    {
     "output_type": "execute_result",
     "data": {
      "text/html": [
       "<div>\n",
       "<style scoped>\n",
       "    .dataframe tbody tr th:only-of-type {\n",
       "        vertical-align: middle;\n",
       "    }\n",
       "\n",
       "    .dataframe tbody tr th {\n",
       "        vertical-align: top;\n",
       "    }\n",
       "\n",
       "    .dataframe thead th {\n",
       "        text-align: right;\n",
       "    }\n",
       "</style>\n",
       "<table border=\"1\" class=\"dataframe\">\n",
       "  <thead>\n",
       "    <tr style=\"text-align: right;\">\n",
       "      <th></th>\n",
       "      <th>company</th>\n",
       "      <th>job_header</th>\n",
       "      <th>job_description</th>\n",
       "    </tr>\n",
       "  </thead>\n",
       "  <tbody>\n",
       "    <tr>\n",
       "      <th>0</th>\n",
       "      <td>Intact</td>\n",
       "      <td>Data Science - 4 Month Co-op/Internship (Winte...</td>\n",
       "      <td>It’s more than a great career. It’s a bright f...</td>\n",
       "    </tr>\n",
       "    <tr>\n",
       "      <th>1</th>\n",
       "      <td>Intact</td>\n",
       "      <td>AI Back End Developer – 4 Month Co-op/Internsh...</td>\n",
       "      <td>It’s more than a great career. It’s a bright f...</td>\n",
       "    </tr>\n",
       "    <tr>\n",
       "      <th>2</th>\n",
       "      <td>Intact</td>\n",
       "      <td>ETL Developer - 4 Month Co-op/Internship (Wint...</td>\n",
       "      <td>It’s more than a great career. It’s a bright f...</td>\n",
       "    </tr>\n",
       "    <tr>\n",
       "      <th>3</th>\n",
       "      <td>Microsoft</td>\n",
       "      <td>Consulting Services: Internship Opportunities</td>\n",
       "      <td>At Microsoft, Interns work on real-world proje...</td>\n",
       "    </tr>\n",
       "    <tr>\n",
       "      <th>4</th>\n",
       "      <td>Northland Power</td>\n",
       "      <td>Intern - IT/OT Security Analyst</td>\n",
       "      <td>We want Northland to be the first choice for t...</td>\n",
       "    </tr>\n",
       "    <tr>\n",
       "      <th>...</th>\n",
       "      <td>...</td>\n",
       "      <td>...</td>\n",
       "      <td>...</td>\n",
       "    </tr>\n",
       "    <tr>\n",
       "      <th>85</th>\n",
       "      <td>Side Effects Software</td>\n",
       "      <td>Marketing Education Intern</td>\n",
       "      <td>Position Overview\\r\\n\\r\\nSideFX is currently l...</td>\n",
       "    </tr>\n",
       "    <tr>\n",
       "      <th>86</th>\n",
       "      <td>Klick Health</td>\n",
       "      <td>Copywriter</td>\n",
       "      <td>About Klick Health\\r\\nMeet a different kind of...</td>\n",
       "    </tr>\n",
       "    <tr>\n",
       "      <th>87</th>\n",
       "      <td>Validere Technologies</td>\n",
       "      <td>Technical Success Analyst</td>\n",
       "      <td>Who we are:\\r\\n\\r\\nValidere is a leading data ...</td>\n",
       "    </tr>\n",
       "    <tr>\n",
       "      <th>88</th>\n",
       "      <td>Amazon Dev Centre Canada ULC</td>\n",
       "      <td>Software Development Engineer - Supply Chain O...</td>\n",
       "      <td>2+ years of non-internship professional softwa...</td>\n",
       "    </tr>\n",
       "    <tr>\n",
       "      <th>89</th>\n",
       "      <td>StackAdapt</td>\n",
       "      <td>Data Engineer</td>\n",
       "      <td>StackAdapt is the no. 1 performing programmati...</td>\n",
       "    </tr>\n",
       "  </tbody>\n",
       "</table>\n",
       "<p>90 rows × 3 columns</p>\n",
       "</div>"
      ],
      "text/plain": [
       "                         company  \\\n",
       "0                         Intact   \n",
       "1                         Intact   \n",
       "2                         Intact   \n",
       "3                      Microsoft   \n",
       "4                Northland Power   \n",
       "..                           ...   \n",
       "85         Side Effects Software   \n",
       "86                  Klick Health   \n",
       "87         Validere Technologies   \n",
       "88  Amazon Dev Centre Canada ULC   \n",
       "89                    StackAdapt   \n",
       "\n",
       "                                           job_header  \\\n",
       "0   Data Science - 4 Month Co-op/Internship (Winte...   \n",
       "1   AI Back End Developer – 4 Month Co-op/Internsh...   \n",
       "2   ETL Developer - 4 Month Co-op/Internship (Wint...   \n",
       "3       Consulting Services: Internship Opportunities   \n",
       "4                     Intern - IT/OT Security Analyst   \n",
       "..                                                ...   \n",
       "85                         Marketing Education Intern   \n",
       "86                                         Copywriter   \n",
       "87                          Technical Success Analyst   \n",
       "88  Software Development Engineer - Supply Chain O...   \n",
       "89                                      Data Engineer   \n",
       "\n",
       "                                      job_description  \n",
       "0   It’s more than a great career. It’s a bright f...  \n",
       "1   It’s more than a great career. It’s a bright f...  \n",
       "2   It’s more than a great career. It’s a bright f...  \n",
       "3   At Microsoft, Interns work on real-world proje...  \n",
       "4   We want Northland to be the first choice for t...  \n",
       "..                                                ...  \n",
       "85  Position Overview\\r\\n\\r\\nSideFX is currently l...  \n",
       "86  About Klick Health\\r\\nMeet a different kind of...  \n",
       "87  Who we are:\\r\\n\\r\\nValidere is a leading data ...  \n",
       "88  2+ years of non-internship professional softwa...  \n",
       "89  StackAdapt is the no. 1 performing programmati...  \n",
       "\n",
       "[90 rows x 3 columns]"
      ]
     },
     "metadata": {},
     "execution_count": 150
    }
   ],
   "metadata": {}
  },
  {
   "cell_type": "code",
   "execution_count": 151,
   "source": [
    "import nltk\r\n",
    "nltk.download('stopwords')\r\n",
    "from nltk.corpus import stopwords\r\n"
   ],
   "outputs": [
    {
     "output_type": "stream",
     "name": "stderr",
     "text": [
      "[nltk_data] Downloading package stopwords to\n",
      "[nltk_data]     C:\\Users\\taola\\AppData\\Roaming\\nltk_data...\n",
      "[nltk_data]   Package stopwords is already up-to-date!\n"
     ]
    }
   ],
   "metadata": {}
  },
  {
   "cell_type": "code",
   "execution_count": 153,
   "source": [
    "df['job_description'][0]\r\n",
    "sw = stopwords.words(\"english\")\r\n",
    "\r\n",
    "def clean_text (text):\r\n",
    "    '''\r\n",
    "    <string> -> <list>\r\n",
    "    1. Remove punctuation\r\n",
    "    2. Lower words\r\n",
    "    3. Remove abbreviations\r\n",
    "    4. Remove stop words\r\n",
    "    '''\r\n",
    "    nopunc = [char.replace(\"[^\\w\\s]\",\"\") for char in text] #no punctuation\r\n",
    "    nopunc_lower = [char.lower() for char in nopunc] #lower-case all words\r\n",
    "    nopunc_lower_abbr = [char.replace(\"’\",\"'\") for char in nopunc_lower] #remove ' with '\r\n",
    "    nopunc_lower_abbr_point = [char.replace(\".\",\"\") for char in nopunc_lower_abbr]\r\n",
    "\r\n",
    "    nopunc = ''.join(nopunc_lower_abbr_point)\r\n",
    "    return [word for word in nopunc.split() if word.lower() not in sw]"
   ],
   "outputs": [],
   "metadata": {}
  },
  {
   "cell_type": "code",
   "execution_count": 154,
   "source": [
    "df['job_description'].apply(clean_text)"
   ],
   "outputs": [
    {
     "output_type": "execute_result",
     "data": {
      "text/plain": [
       "0     [great, career, bright, future, aim, best, ins...\n",
       "1     [great, career, bright, future, looking, gain,...\n",
       "2     [great, career, bright, future, looking, gain,...\n",
       "3     [microsoft,, interns, work, real-world, projec...\n",
       "4     [want, northland, first, choice, talented, peo...\n",
       "                            ...                        \n",
       "85    [position, overview, sidefx, currently, lookin...\n",
       "86    [klick, health, meet, different, kind, workpla...\n",
       "87    [are:, validere, leading, data, analytics, saa...\n",
       "88    [2+, years, non-internship, professional, soft...\n",
       "89    [stackadapt, 1, performing, programmatic, adve...\n",
       "Name: job_description, Length: 90, dtype: object"
      ]
     },
     "metadata": {},
     "execution_count": 154
    }
   ],
   "metadata": {}
  },
  {
   "cell_type": "code",
   "execution_count": 80,
   "source": [
    "'''\r\n",
    "df[\"job_description\"] = df[\"job_description\"].str.replace(\"[^\\w\\s]\",\"\")\r\n",
    "df[\"job_description\"]=df[\"job_description\"].apply(lambda x: \" \".join(x.lower() for x in x.split()))\r\n",
    "df[\"job_description\"]=df[\"job_description\"].apply(lambda x: \" \".join(x.replace(\"’\",\"'\") for x in x.split()))\r\n",
    "df[\"job_description\"]=df[\"job_description\"].apply(lambda x: \" \".join(x for x in x.split() if x not in sw))\r\n",
    "df['job_description']=df['job_description'].apply(str)\r\n",
    "tokens = []\r\n",
    "for i in range(len(df[\"job_description\"])):\r\n",
    "    token = nltk.word_tokenize(df[\"job_description\"][i])\r\n",
    "    tokens.append(token)\r\n",
    "\r\n",
    "'''"
   ],
   "outputs": [
    {
     "output_type": "stream",
     "name": "stderr",
     "text": [
      "C:\\Users\\taola\\AppData\\Local\\Temp/ipykernel_8096/2993565688.py:1: FutureWarning: The default value of regex will change from True to False in a future version.\n",
      "  df[\"job_description\"] = df[\"job_description\"].str.replace(\"[^\\w\\s]\",\"\")\n"
     ]
    }
   ],
   "metadata": {}
  },
  {
   "cell_type": "code",
   "execution_count": 156,
   "source": [
    "from sklearn.feature_extraction.text import CountVectorizer\r\n"
   ],
   "outputs": [],
   "metadata": {}
  }
 ],
 "metadata": {
  "interpreter": {
   "hash": "068879bc2d4a1fa810f102c2978f88f2c292e6d752c6876c12c796585cbb866f"
  },
  "kernelspec": {
   "display_name": "Python 3",
   "language": "python",
   "name": "python3"
  },
  "language_info": {
   "codemirror_mode": {
    "name": "ipython",
    "version": 3
   },
   "file_extension": ".py",
   "mimetype": "text/x-python",
   "name": "python",
   "nbconvert_exporter": "python",
   "pygments_lexer": "ipython3",
   "version": "3.8.5"
  }
 },
 "nbformat": 4,
 "nbformat_minor": 4
}